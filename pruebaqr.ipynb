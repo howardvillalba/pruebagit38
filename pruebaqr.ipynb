{
  "nbformat": 4,
  "nbformat_minor": 0,
  "metadata": {
    "colab": {
      "provenance": [],
      "authorship_tag": "ABX9TyPolNvmnGfAU2aRmmjDW2JS",
      "include_colab_link": true
    },
    "kernelspec": {
      "name": "python3",
      "display_name": "Python 3"
    },
    "language_info": {
      "name": "python"
    }
  },
  "cells": [
    {
      "cell_type": "markdown",
      "metadata": {
        "id": "view-in-github",
        "colab_type": "text"
      },
      "source": [
        "<a href=\"https://colab.research.google.com/github/howardvillalba/pruebagit38/blob/master/pruebaqr.ipynb\" target=\"_parent\"><img src=\"https://colab.research.google.com/assets/colab-badge.svg\" alt=\"Open In Colab\"/></a>"
      ]
    },
    {
      "cell_type": "code",
      "execution_count": null,
      "metadata": {
        "id": "DhSH9V_1p71l"
      },
      "outputs": [],
      "source": [
        "pip install qrcode"
      ]
    },
    {
      "cell_type": "code",
      "source": [
        "import qrcode\n",
        "\n",
        "# La URL que queremos que contenga el código QR\n",
        "url = \"comanddo357@gmail.com\"\n",
        "\n",
        "# Generamos el código QR\n",
        "qr = qrcode.make(url)\n",
        "\n",
        "# Guardamos el código QR como una imagen\n",
        "qr.save(\"codigo_qr_nuevo.png\")\n",
        "\n",
        "\n",
        "\n"
      ],
      "metadata": {
        "id": "DAdkWT45r1Cn"
      },
      "execution_count": 13,
      "outputs": []
    },
    {
      "cell_type": "code",
      "source": [],
      "metadata": {
        "id": "RAT8oBnusBJv"
      },
      "execution_count": null,
      "outputs": []
    }
  ]
}